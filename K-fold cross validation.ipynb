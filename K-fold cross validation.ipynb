{
 "cells": [
  {
   "cell_type": "markdown",
   "id": "eeba2498",
   "metadata": {},
   "source": [
    "# *Importing Modules*"
   ]
  },
  {
   "cell_type": "code",
   "execution_count": 1,
   "id": "5ea5c309",
   "metadata": {},
   "outputs": [],
   "source": [
    "import numpy as np\n",
    "import pandas as pd\n",
    "import seaborn as sns\n",
    "from matplotlib import pyplot as plt\n",
    "from sklearn.datasets import load_diabetes\n",
    "from sklearn.model_selection import KFold\n",
    "from sklearn.linear_model import LinearRegression"
   ]
  },
  {
   "cell_type": "markdown",
   "id": "0070aead",
   "metadata": {},
   "source": [
    "# *K-Fold*"
   ]
  },
  {
   "cell_type": "code",
   "execution_count": 2,
   "id": "907db129",
   "metadata": {},
   "outputs": [
    {
     "data": {
      "text/plain": [
       "0.4528787709055494"
      ]
     },
     "execution_count": 2,
     "metadata": {},
     "output_type": "execute_result"
    }
   ],
   "source": [
    "kf = KFold(n_splits=10,shuffle=True,random_state=43)\n",
    "diabetes = load_diabetes()\n",
    "x = diabetes.data\n",
    "y = diabetes.target\n",
    "score_list=[]\n",
    "\n",
    "for train_index,test_index in kf.split(x):\n",
    "    x_train,x_test=x[train_index],x[test_index]\n",
    "    y_train,y_test=y[train_index],y[test_index]\n",
    "    \n",
    "    model=LinearRegression()\n",
    "    model.fit(x_train,y_train)\n",
    "    score_list.append(model.score(x_test,y_test))\n",
    "\n",
    "np.mean(score_list)"
   ]
  },
  {
   "cell_type": "code",
   "execution_count": null,
   "id": "ec2f25ce",
   "metadata": {},
   "outputs": [],
   "source": []
  }
 ],
 "metadata": {
  "kernelspec": {
   "display_name": "Python 3 (ipykernel)",
   "language": "python",
   "name": "python3"
  },
  "language_info": {
   "codemirror_mode": {
    "name": "ipython",
    "version": 3
   },
   "file_extension": ".py",
   "mimetype": "text/x-python",
   "name": "python",
   "nbconvert_exporter": "python",
   "pygments_lexer": "ipython3",
   "version": "3.11.5"
  }
 },
 "nbformat": 4,
 "nbformat_minor": 5
}
